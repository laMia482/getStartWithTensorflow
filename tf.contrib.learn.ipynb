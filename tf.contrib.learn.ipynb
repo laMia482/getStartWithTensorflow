{
 "cells": [
  {
   "cell_type": "code",
   "execution_count": 1,
   "metadata": {
    "collapsed": true
   },
   "outputs": [],
   "source": [
    "import numpy as np\n",
    "import tensorflow as tf"
   ]
  },
  {
   "cell_type": "code",
   "execution_count": 7,
   "metadata": {},
   "outputs": [
    {
     "name": "stdout",
     "output_type": "stream",
     "text": [
      "INFO:tensorflow:Using default config.\n",
      "WARNING:tensorflow:Using temporary folder as model directory: /tmp/tmpqMHjav\n",
      "INFO:tensorflow:Using config: {'_save_checkpoints_secs': 600, '_num_ps_replicas': 0, '_keep_checkpoint_max': 5, '_task_type': None, '_is_chief': True, '_cluster_spec': <tensorflow.python.training.server_lib.ClusterSpec object at 0x7f1779534d10>, '_model_dir': '/tmp/tmpqMHjav', '_save_checkpoints_steps': None, '_keep_checkpoint_every_n_hours': 10000, '_session_config': None, '_tf_random_seed': None, '_environment': 'local', '_num_worker_replicas': 0, '_task_id': 0, '_save_summary_steps': 100, '_tf_config': gpu_options {\n",
      "  per_process_gpu_memory_fraction: 1.0\n",
      "}\n",
      ", '_evaluation_master': '', '_master': ''}\n"
     ]
    }
   ],
   "source": [
    "features = [tf.contrib.layers.real_valued_column(\"x\", dimension=1)]\n",
    "estimator = tf.contrib.learn.LinearRegressor(feature_columns=features)"
   ]
  },
  {
   "cell_type": "code",
   "execution_count": 8,
   "metadata": {
    "collapsed": true
   },
   "outputs": [],
   "source": [
    "x_train = np.array([1.,2.,3.,4.])\n",
    "y_train = np.array([0.,-1.,-2.,-3.])\n",
    "x_eval = np.array([2.,5.,8.,1.])\n",
    "y_eval = np.array([-1.01,-4.1,-7,0.])"
   ]
  },
  {
   "cell_type": "code",
   "execution_count": 9,
   "metadata": {
    "collapsed": true
   },
   "outputs": [],
   "source": [
    "input_fn = tf.contrib.learn.io.numpy_input_fn({\"x\":x_train},y_train,batch_size=4, num_epochs=1000)\n",
    "eval_input_fn = tf.contrib.learn.io.numpy_input_fn({\"x\":x_eval},y_eval,batch_size=4, num_epochs=1000)"
   ]
  },
  {
   "cell_type": "code",
   "execution_count": 10,
   "metadata": {},
   "outputs": [
    {
     "name": "stdout",
     "output_type": "stream",
     "text": [
      "WARNING:tensorflow:From /home/e0024/workspace/Anaconda2/lib/python2.7/site-packages/tensorflow/contrib/learn/python/learn/estimators/head.py:625: scalar_summary (from tensorflow.python.ops.logging_ops) is deprecated and will be removed after 2016-11-30.\n",
      "Instructions for updating:\n",
      "Please switch to tf.summary.scalar. Note that tf.summary.scalar uses the node name instead of the tag. This means that TensorFlow will automatically de-duplicate summary names based on the scope they are created in. Also, passing a tensor or list of tags to a scalar summary op is no longer supported.\n",
      "INFO:tensorflow:Create CheckpointSaverHook.\n",
      "INFO:tensorflow:Saving checkpoints for 1 into /tmp/tmpqMHjav/model.ckpt.\n",
      "INFO:tensorflow:loss = 4.25, step = 1\n",
      "INFO:tensorflow:global_step/sec: 1505.98\n",
      "INFO:tensorflow:loss = 0.165105, step = 101 (0.067 sec)\n",
      "INFO:tensorflow:global_step/sec: 1490.25\n",
      "INFO:tensorflow:loss = 0.0192173, step = 201 (0.067 sec)\n",
      "INFO:tensorflow:global_step/sec: 1544.93\n",
      "INFO:tensorflow:loss = 0.00516915, step = 301 (0.065 sec)\n",
      "INFO:tensorflow:global_step/sec: 1523.37\n",
      "INFO:tensorflow:loss = 0.00165011, step = 401 (0.066 sec)\n",
      "INFO:tensorflow:global_step/sec: 1587.2\n",
      "INFO:tensorflow:loss = 0.000185217, step = 501 (0.063 sec)\n",
      "INFO:tensorflow:global_step/sec: 1573.44\n",
      "INFO:tensorflow:loss = 6.72945e-05, step = 601 (0.064 sec)\n",
      "INFO:tensorflow:global_step/sec: 1590.99\n",
      "INFO:tensorflow:loss = 1.6937e-05, step = 701 (0.063 sec)\n",
      "INFO:tensorflow:global_step/sec: 1651.01\n",
      "INFO:tensorflow:loss = 2.43594e-06, step = 801 (0.061 sec)\n",
      "INFO:tensorflow:global_step/sec: 1665.38\n",
      "INFO:tensorflow:loss = 9.81315e-07, step = 901 (0.060 sec)\n",
      "INFO:tensorflow:Saving checkpoints for 1000 into /tmp/tmpqMHjav/model.ckpt.\n",
      "INFO:tensorflow:Loss for final step: 4.62556e-07.\n"
     ]
    },
    {
     "data": {
      "text/plain": [
       "LinearRegressor(params={'gradient_clip_norm': None, 'head': <tensorflow.contrib.learn.python.learn.estimators.head._RegressionHead object at 0x7f1768b54390>, 'joint_weights': False, 'optimizer': None, 'feature_columns': [_RealValuedColumn(column_name='x', dimension=1, default_value=None, dtype=tf.float32, normalizer=None)]})"
      ]
     },
     "execution_count": 10,
     "metadata": {},
     "output_type": "execute_result"
    }
   ],
   "source": [
    "estimator.fit(input_fn=input_fn, steps=1000)"
   ]
  },
  {
   "cell_type": "code",
   "execution_count": 11,
   "metadata": {},
   "outputs": [
    {
     "name": "stdout",
     "output_type": "stream",
     "text": [
      "WARNING:tensorflow:From /home/e0024/workspace/Anaconda2/lib/python2.7/site-packages/tensorflow/contrib/learn/python/learn/estimators/head.py:625: scalar_summary (from tensorflow.python.ops.logging_ops) is deprecated and will be removed after 2016-11-30.\n",
      "Instructions for updating:\n",
      "Please switch to tf.summary.scalar. Note that tf.summary.scalar uses the node name instead of the tag. This means that TensorFlow will automatically de-duplicate summary names based on the scope they are created in. Also, passing a tensor or list of tags to a scalar summary op is no longer supported.\n",
      "INFO:tensorflow:Starting evaluation at 2017-08-01-10:48:28\n",
      "INFO:tensorflow:Restoring parameters from /tmp/tmpqMHjav/model.ckpt-1000\n",
      "INFO:tensorflow:Finished evaluation at 2017-08-01-10:48:28\n",
      "INFO:tensorflow:Saving dict for global step 1000: global_step = 1000, loss = 2.82719e-07\n",
      "WARNING:tensorflow:From /home/e0024/workspace/Anaconda2/lib/python2.7/site-packages/tensorflow/contrib/learn/python/learn/estimators/head.py:625: scalar_summary (from tensorflow.python.ops.logging_ops) is deprecated and will be removed after 2016-11-30.\n",
      "Instructions for updating:\n",
      "Please switch to tf.summary.scalar. Note that tf.summary.scalar uses the node name instead of the tag. This means that TensorFlow will automatically de-duplicate summary names based on the scope they are created in. Also, passing a tensor or list of tags to a scalar summary op is no longer supported.\n",
      "INFO:tensorflow:Starting evaluation at 2017-08-01-10:48:28\n",
      "INFO:tensorflow:Restoring parameters from /tmp/tmpqMHjav/model.ckpt-1000\n",
      "INFO:tensorflow:Finished evaluation at 2017-08-01-10:48:29\n",
      "INFO:tensorflow:Saving dict for global step 1000: global_step = 1000, loss = 0.0025772\n",
      "train loss: {'loss': 2.8271938e-07, 'global_step': 1000}\n",
      "eval loss: {'loss': 0.0025772047, 'global_step': 1000}\n"
     ]
    }
   ],
   "source": [
    "train_loss = estimator.evaluate(input_fn=input_fn)\n",
    "eval_loss = estimator.evaluate(input_fn=eval_input_fn)\n",
    "print(\"train loss: %s\"%train_loss)\n",
    "print(\"eval loss: %s\"%eval_loss)"
   ]
  },
  {
   "cell_type": "code",
   "execution_count": null,
   "metadata": {
    "collapsed": true
   },
   "outputs": [],
   "source": []
  }
 ],
 "metadata": {
  "kernelspec": {
   "display_name": "Python 2",
   "language": "python",
   "name": "python2"
  },
  "language_info": {
   "codemirror_mode": {
    "name": "ipython",
    "version": 2
   },
   "file_extension": ".py",
   "mimetype": "text/x-python",
   "name": "python",
   "nbconvert_exporter": "python",
   "pygments_lexer": "ipython2",
   "version": "2.7.13"
  }
 },
 "nbformat": 4,
 "nbformat_minor": 2
}
