{
 "cells": [
  {
   "cell_type": "code",
   "execution_count": 2,
   "metadata": {},
   "outputs": [
    {
     "name": "stdout",
     "output_type": "stream",
     "text": [
      "INFO:tensorflow:Using default config.\n",
      "WARNING:tensorflow:Using temporary folder as model directory: /tmp/tmpdjjS_H\n",
      "INFO:tensorflow:Using config: {'_save_checkpoints_secs': 600, '_num_ps_replicas': 0, '_keep_checkpoint_max': 5, '_task_type': None, '_is_chief': True, '_cluster_spec': <tensorflow.python.training.server_lib.ClusterSpec object at 0x7f6fc774f590>, '_model_dir': '/tmp/tmpdjjS_H', '_save_checkpoints_steps': None, '_keep_checkpoint_every_n_hours': 10000, '_session_config': None, '_tf_random_seed': None, '_environment': 'local', '_num_worker_replicas': 0, '_task_id': 0, '_save_summary_steps': 100, '_tf_config': gpu_options {\n",
      "  per_process_gpu_memory_fraction: 1.0\n",
      "}\n",
      ", '_evaluation_master': '', '_master': ''}\n",
      "INFO:tensorflow:Create CheckpointSaverHook.\n",
      "INFO:tensorflow:Saving checkpoints for 1 into /tmp/tmpdjjS_H/model.ckpt.\n",
      "INFO:tensorflow:loss = 14.4009110667, step = 1\n",
      "INFO:tensorflow:global_step/sec: 1654.42\n",
      "INFO:tensorflow:loss = 0.528520022714, step = 101 (0.063 sec)\n",
      "INFO:tensorflow:global_step/sec: 1956.11\n",
      "INFO:tensorflow:loss = 0.0163623050506, step = 201 (0.049 sec)\n",
      "INFO:tensorflow:global_step/sec: 2269.42\n",
      "INFO:tensorflow:loss = 0.00038041298076, step = 301 (0.044 sec)\n",
      "INFO:tensorflow:global_step/sec: 2174.19\n",
      "INFO:tensorflow:loss = 0.000345547107548, step = 401 (0.046 sec)\n",
      "INFO:tensorflow:global_step/sec: 2277.9\n",
      "INFO:tensorflow:loss = 1.51071417699e-05, step = 501 (0.044 sec)\n",
      "INFO:tensorflow:global_step/sec: 2206.34\n",
      "INFO:tensorflow:loss = 2.7397235571e-06, step = 601 (0.045 sec)\n",
      "INFO:tensorflow:global_step/sec: 2264.74\n",
      "INFO:tensorflow:loss = 3.18535932686e-07, step = 701 (0.044 sec)\n",
      "INFO:tensorflow:global_step/sec: 2373.44\n",
      "INFO:tensorflow:loss = 1.14165718391e-08, step = 801 (0.042 sec)\n",
      "INFO:tensorflow:global_step/sec: 2463.47\n",
      "INFO:tensorflow:loss = 1.5015146202e-09, step = 901 (0.041 sec)\n",
      "INFO:tensorflow:Saving checkpoints for 1000 into /tmp/tmpdjjS_H/model.ckpt.\n",
      "INFO:tensorflow:Loss for final step: 2.46752497109e-10.\n",
      "INFO:tensorflow:Starting evaluation at 2017-08-01-10:52:15\n",
      "INFO:tensorflow:Restoring parameters from /tmp/tmpdjjS_H/model.ckpt-1000\n",
      "INFO:tensorflow:Finished evaluation at 2017-08-01-10:52:15\n",
      "INFO:tensorflow:Saving dict for global step 1000: global_step = 1000, loss = 1.34362e-10\n",
      "INFO:tensorflow:Starting evaluation at 2017-08-01-10:52:15\n",
      "INFO:tensorflow:Restoring parameters from /tmp/tmpdjjS_H/model.ckpt-1000\n",
      "INFO:tensorflow:Finished evaluation at 2017-08-01-10:52:15\n",
      "INFO:tensorflow:Saving dict for global step 1000: global_step = 1000, loss = 0.0101019\n",
      "train loss: {'loss': 1.3436184e-10, 'global_step': 1000}\n",
      "eval loss: {'loss': 0.01010188, 'global_step': 1000}\n"
     ]
    }
   ],
   "source": [
    "import numpy as np\n",
    "import tensorflow as tf\n",
    "# Declare list of features, we only have one real-valued feature\n",
    "def model(features, labels, mode):\n",
    "  # Build a linear model and predict values\n",
    "  W = tf.get_variable(\"W\", [1], dtype=tf.float64)\n",
    "  b = tf.get_variable(\"b\", [1], dtype=tf.float64)\n",
    "  y = W*features['x'] + b\n",
    "  # Loss sub-graph\n",
    "  loss = tf.reduce_sum(tf.square(y - labels))\n",
    "  # Training sub-graph\n",
    "  global_step = tf.train.get_global_step()\n",
    "  optimizer = tf.train.GradientDescentOptimizer(0.01)\n",
    "  train = tf.group(optimizer.minimize(loss),\n",
    "                   tf.assign_add(global_step, 1))\n",
    "  # ModelFnOps connects subgraphs we built to the\n",
    "  # appropriate functionality.\n",
    "  return tf.contrib.learn.ModelFnOps(\n",
    "      mode=mode, predictions=y,\n",
    "      loss=loss,\n",
    "      train_op=train)\n",
    "\n",
    "estimator = tf.contrib.learn.Estimator(model_fn=model)\n",
    "# define our data sets\n",
    "x_train = np.array([1., 2., 3., 4.])\n",
    "y_train = np.array([0., -1., -2., -3.])\n",
    "x_eval = np.array([2., 5., 8., 1.])\n",
    "y_eval = np.array([-1.01, -4.1, -7, 0.])\n",
    "input_fn = tf.contrib.learn.io.numpy_input_fn({\"x\": x_train}, y_train, 4, num_epochs=1000)\n",
    "eval_input_fn = tf.contrib.learn.io.numpy_input_fn({\"x\": x_eval}, y_eval, 4, num_epochs=1000)\n",
    "\n",
    "# train\n",
    "estimator.fit(input_fn=input_fn, steps=1000)\n",
    "# Here we evaluate how well our model did. \n",
    "train_loss = estimator.evaluate(input_fn=input_fn)\n",
    "eval_loss = estimator.evaluate(input_fn=eval_input_fn)\n",
    "print(\"train loss: %r\"% train_loss)\n",
    "print(\"eval loss: %r\"% eval_loss)"
   ]
  },
  {
   "cell_type": "code",
   "execution_count": 3,
   "metadata": {
    "collapsed": true
   },
   "outputs": [],
   "source": [
    "exit()"
   ]
  },
  {
   "cell_type": "code",
   "execution_count": null,
   "metadata": {
    "collapsed": true
   },
   "outputs": [],
   "source": []
  }
 ],
 "metadata": {
  "kernelspec": {
   "display_name": "Python 2",
   "language": "python",
   "name": "python2"
  },
  "language_info": {
   "codemirror_mode": {
    "name": "ipython",
    "version": 2
   },
   "file_extension": ".py",
   "mimetype": "text/x-python",
   "name": "python",
   "nbconvert_exporter": "python",
   "pygments_lexer": "ipython2",
   "version": "2.7.13"
  }
 },
 "nbformat": 4,
 "nbformat_minor": 2
}
